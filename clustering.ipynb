{
 "cells": [
  {
   "cell_type": "code",
   "execution_count": 1,
   "id": "f4437634",
   "metadata": {},
   "outputs": [],
   "source": [
    "# only if needed\n",
    "#!python -m spacy download en_core_web_sm"
   ]
  },
  {
   "cell_type": "code",
   "execution_count": 2,
   "id": "c6494e37",
   "metadata": {},
   "outputs": [],
   "source": [
    "import spacy\n",
    "import random\n",
    "import numpy as np\n",
    "import pandas as pd\n",
    "import matplotlib.pyplot as plt\n",
    "from mpl_toolkits import mplot3d\n",
    "import seaborn as sns\n",
    "%matplotlib inline\n",
    "\n",
    "# %matplotlib widget\n",
    "nlp = spacy.load(\"en_core_web_sm\")"
   ]
  },
  {
   "cell_type": "code",
   "execution_count": 3,
   "id": "fb2be113",
   "metadata": {},
   "outputs": [
    {
     "data": {
      "text/html": [
       "<div>\n",
       "<style scoped>\n",
       "    .dataframe tbody tr th:only-of-type {\n",
       "        vertical-align: middle;\n",
       "    }\n",
       "\n",
       "    .dataframe tbody tr th {\n",
       "        vertical-align: top;\n",
       "    }\n",
       "\n",
       "    .dataframe thead th {\n",
       "        text-align: right;\n",
       "    }\n",
       "</style>\n",
       "<table border=\"1\" class=\"dataframe\">\n",
       "  <thead>\n",
       "    <tr style=\"text-align: right;\">\n",
       "      <th></th>\n",
       "      <th>email_text</th>\n",
       "    </tr>\n",
       "  </thead>\n",
       "  <tbody>\n",
       "    <tr>\n",
       "      <th>0</th>\n",
       "      <td>Here is our forecast</td>\n",
       "    </tr>\n",
       "    <tr>\n",
       "      <th>1</th>\n",
       "      <td>Jeff,\\n\\nIn light of the puny VAR allotments a...</td>\n",
       "    </tr>\n",
       "    <tr>\n",
       "      <th>2</th>\n",
       "      <td>Greg here are my questions regarding the cedar...</td>\n",
       "    </tr>\n",
       "    <tr>\n",
       "      <th>3</th>\n",
       "      <td>Is AMF willing to put up the additional earnes...</td>\n",
       "    </tr>\n",
       "    <tr>\n",
       "      <th>4</th>\n",
       "      <td>please send me their resumes</td>\n",
       "    </tr>\n",
       "    <tr>\n",
       "      <th>...</th>\n",
       "      <td>...</td>\n",
       "    </tr>\n",
       "    <tr>\n",
       "      <th>33528</th>\n",
       "      <td>Sundance 3:\\tAug. 16 to Sept. 13\\nSundance 4:\\...</td>\n",
       "    </tr>\n",
       "    <tr>\n",
       "      <th>33529</th>\n",
       "      <td>The canadian sap # is \\tp00565421\\nthe us sap ...</td>\n",
       "    </tr>\n",
       "    <tr>\n",
       "      <th>33530</th>\n",
       "      <td>yes</td>\n",
       "    </tr>\n",
       "    <tr>\n",
       "      <th>33531</th>\n",
       "      <td>One of us will attend</td>\n",
       "    </tr>\n",
       "    <tr>\n",
       "      <th>33532</th>\n",
       "      <td>yes thanks John</td>\n",
       "    </tr>\n",
       "  </tbody>\n",
       "</table>\n",
       "<p>33533 rows × 1 columns</p>\n",
       "</div>"
      ],
      "text/plain": [
       "                                              email_text\n",
       "0                                   Here is our forecast\n",
       "1      Jeff,\\n\\nIn light of the puny VAR allotments a...\n",
       "2      Greg here are my questions regarding the cedar...\n",
       "3      Is AMF willing to put up the additional earnes...\n",
       "4                           please send me their resumes\n",
       "...                                                  ...\n",
       "33528  Sundance 3:\\tAug. 16 to Sept. 13\\nSundance 4:\\...\n",
       "33529  The canadian sap # is \\tp00565421\\nthe us sap ...\n",
       "33530                                                yes\n",
       "33531                              One of us will attend\n",
       "33532                                    yes thanks John\n",
       "\n",
       "[33533 rows x 1 columns]"
      ]
     },
     "execution_count": 3,
     "metadata": {},
     "output_type": "execute_result"
    }
   ],
   "source": [
    "emails_df = pd.read_csv('data/cleaned_emails.csv', usecols=['email_text'])\n",
    "emails_df"
   ]
  },
  {
   "cell_type": "code",
   "execution_count": 4,
   "id": "be879298",
   "metadata": {},
   "outputs": [
    {
     "data": {
      "text/plain": [
       "0                                 Here is our forecast\n",
       "1    Jeff,\\n\\nIn light of the puny VAR allotments a...\n",
       "2    Greg here are my questions regarding the cedar...\n",
       "3    Is AMF willing to put up the additional earnes...\n",
       "4                         please send me their resumes\n",
       "Name: email_text, dtype: object"
      ]
     },
     "execution_count": 4,
     "metadata": {},
     "output_type": "execute_result"
    }
   ],
   "source": [
    "emails = emails_df['email_text']\n",
    "emails[:5]"
   ]
  },
  {
   "cell_type": "code",
   "execution_count": 5,
   "id": "d53b571f",
   "metadata": {},
   "outputs": [],
   "source": [
    "def preprocess(email):\n",
    "    tokens = [token for token in email.lower().split() if token.isalpha()]\n",
    "    return \" \".join(tokens)"
   ]
  },
  {
   "cell_type": "code",
   "execution_count": 6,
   "id": "f6f54382",
   "metadata": {},
   "outputs": [
    {
     "name": "stdout",
     "output_type": "stream",
     "text": [
      "Raw:\n",
      "You may or may not want this but if here it is just in case.\n",
      "\n",
      "Thanks\n",
      "\n",
      "Processed:\n",
      "you may or may not want this but if here it is just in thanks\n"
     ]
    }
   ],
   "source": [
    "email = random.choice(emails)\n",
    "print(f\"Raw:\\n{email}\")\n",
    "print()\n",
    "print(f\"Processed:\\n{preprocess(email)}\")"
   ]
  },
  {
   "cell_type": "code",
   "execution_count": 7,
   "id": "9b690310",
   "metadata": {},
   "outputs": [],
   "source": [
    "emails_processed = []\n",
    "for email in emails:\n",
    "    emails_processed.append(preprocess(email))"
   ]
  },
  {
   "cell_type": "code",
   "execution_count": 8,
   "id": "08d264a5",
   "metadata": {},
   "outputs": [],
   "source": [
    "# from sklearn.feature_extraction.text import TfidfVectorizer\n",
    "# from sklearn.preprocessing import normalize\n",
    "\n",
    "# tf_idf_vec = TfidfVectorizer(stop_words='english', max_features=10000)\n",
    "# tf_idf_raw = tf_idf_vec.fit_transform(emails_processed)\n",
    "# # tf_idf_normalized = normalize(tf_idf_raw)\n",
    "# # tf_idf = tf_idf_normalized.toarray()\n",
    "# tf_idf = tf_idf_raw.toarray()"
   ]
  },
  {
   "cell_type": "code",
   "execution_count": 9,
   "id": "93b5f66a",
   "metadata": {},
   "outputs": [
    {
     "name": "stderr",
     "output_type": "stream",
     "text": [
      "/Users/nosaka/miniconda3/envs/nlp/lib/python3.8/site-packages/gensim/similarities/__init__.py:15: UserWarning: The gensim.similarities.levenshtein submodule is disabled, because the optional Levenshtein package <https://pypi.org/project/python-Levenshtein/> is unavailable. Install Levenhstein (e.g. `pip install python-Levenshtein`) to suppress this warning.\n",
      "  warnings.warn(msg)\n"
     ]
    }
   ],
   "source": [
    "from gensim.models.word2vec import Word2Vec\n",
    "\n",
    "model = Word2Vec([[token for token in email.split()] for email in emails_processed], window=5, workers=4, vector_size=100, sg=1)"
   ]
  },
  {
   "cell_type": "code",
   "execution_count": 10,
   "id": "56029731",
   "metadata": {},
   "outputs": [
    {
     "data": {
      "text/plain": [
       "['e',\n",
       " 'moving',\n",
       " 'idea',\n",
       " 'house',\n",
       " 'return',\n",
       " 'natural',\n",
       " 'sold',\n",
       " 'late',\n",
       " 'confirm',\n",
       " 'box',\n",
       " 'within',\n",
       " 'isda',\n",
       " 'davis',\n",
       " 'paid',\n",
       " 'direct',\n",
       " 'language',\n",
       " 'costs',\n",
       " 'paso',\n",
       " 'firm',\n",
       " 'bad']"
      ]
     },
     "execution_count": 10,
     "metadata": {},
     "output_type": "execute_result"
    }
   ],
   "source": [
    "model.wv.index_to_key[500:520]"
   ]
  },
  {
   "cell_type": "code",
   "execution_count": 11,
   "id": "9f96950b",
   "metadata": {},
   "outputs": [],
   "source": [
    "# pd.DataFrame(tf_idf, columns=tf_idf_vec.get_feature_names()).columns[:20]"
   ]
  },
  {
   "cell_type": "markdown",
   "id": "dc6cb779",
   "metadata": {},
   "source": [
    "## Data exploration"
   ]
  },
  {
   "cell_type": "code",
   "execution_count": 12,
   "id": "f4f5d327",
   "metadata": {},
   "outputs": [],
   "source": [
    "from collections import Counter\n",
    "vocab = Counter()\n",
    "\n",
    "for email in emails_processed:\n",
    "    for token in email.split():\n",
    "        vocab[token] += 1"
   ]
  },
  {
   "cell_type": "code",
   "execution_count": 13,
   "id": "5241485c",
   "metadata": {},
   "outputs": [
    {
     "data": {
      "text/plain": [
       "[<matplotlib.lines.Line2D at 0x7fe2ced25670>]"
      ]
     },
     "execution_count": 13,
     "metadata": {},
     "output_type": "execute_result"
    },
    {
     "data": {
      "image/png": "[encoded data removed]",
      "text/plain": [
       "<Figure size 432x288 with 1 Axes>"
      ]
     },
     "metadata": {
      "needs_background": "light"
     },
     "output_type": "display_data"
    }
   ],
   "source": [
    "maximum = 250\n",
    "plt.plot(range(len(vocab.most_common(maximum))), [v for k,v in vocab.most_common(maximum)])"
   ]
  },
  {
   "cell_type": "code",
   "execution_count": 14,
   "id": "b57fafc5",
   "metadata": {},
   "outputs": [],
   "source": [
    "word_to_vector = {}\n",
    "for i in range(len(model.wv)):\n",
    "    word_to_vector[model.wv.index_to_key[i]] = model.wv[i]"
   ]
  },
  {
   "cell_type": "code",
   "execution_count": 15,
   "id": "39ca36c9",
   "metadata": {},
   "outputs": [
    {
     "data": {
      "text/plain": [
       "array([ True,  True,  True,  True,  True,  True,  True,  True,  True,\n",
       "        True,  True,  True,  True,  True,  True,  True,  True,  True,\n",
       "        True,  True,  True,  True,  True,  True,  True,  True,  True,\n",
       "        True,  True,  True,  True,  True,  True,  True,  True,  True,\n",
       "        True,  True,  True,  True,  True,  True,  True,  True,  True,\n",
       "        True,  True,  True,  True,  True,  True,  True,  True,  True,\n",
       "        True,  True,  True,  True,  True,  True,  True,  True,  True,\n",
       "        True,  True,  True,  True,  True,  True,  True,  True,  True,\n",
       "        True,  True,  True,  True,  True,  True,  True,  True,  True,\n",
       "        True,  True,  True,  True,  True,  True,  True,  True,  True,\n",
       "        True,  True,  True,  True,  True,  True,  True,  True,  True,\n",
       "        True])"
      ]
     },
     "execution_count": 15,
     "metadata": {},
     "output_type": "execute_result"
    }
   ],
   "source": [
    "word_to_vector['the'] == model.wv[0]"
   ]
  },
  {
   "cell_type": "markdown",
   "id": "ffe5e104",
   "metadata": {},
   "source": [
    "## 2 Dimensional"
   ]
  },
  {
   "cell_type": "code",
   "execution_count": 16,
   "id": "300a6efd",
   "metadata": {},
   "outputs": [],
   "source": [
    "from sklearn.decomposition import PCA\n",
    "\n",
    "pca_2d = PCA(n_components=2) # fit to 2 dim\n",
    "vec_2d = pca_2d.fit_transform([model.wv[i] for i in range(len(model.wv))]) # apply fit"
   ]
  },
  {
   "cell_type": "code",
   "execution_count": 17,
   "id": "bf9031d7",
   "metadata": {},
   "outputs": [],
   "source": [
    "from sklearn.cluster import KMeans"
   ]
  },
  {
   "cell_type": "markdown",
   "id": "02cbddf3",
   "metadata": {},
   "source": [
    "### Elbow Method"
   ]
  },
  {
   "cell_type": "code",
   "execution_count": 18,
   "id": "7e651521",
   "metadata": {},
   "outputs": [
    {
     "data": {
      "text/plain": [
       "[KMeans(max_iter=1000, n_clusters=1),\n",
       " KMeans(max_iter=1000, n_clusters=2),\n",
       " KMeans(max_iter=1000, n_clusters=3),\n",
       " KMeans(max_iter=1000, n_clusters=4),\n",
       " KMeans(max_iter=1000, n_clusters=5),\n",
       " KMeans(max_iter=1000, n_clusters=6),\n",
       " KMeans(max_iter=1000, n_clusters=7),\n",
       " KMeans(max_iter=1000),\n",
       " KMeans(max_iter=1000, n_clusters=9)]"
      ]
     },
     "execution_count": 18,
     "metadata": {},
     "output_type": "execute_result"
    }
   ],
   "source": [
    "kmeans_list = [KMeans(n_clusters=n, max_iter=1000, algorithm='auto') for n in range(1,10)]\n",
    "kmeans_list"
   ]
  },
  {
   "cell_type": "code",
   "execution_count": 19,
   "id": "d1952542",
   "metadata": {},
   "outputs": [
    {
     "data": {
      "text/plain": [
       "[-4586.876951890662,\n",
       " -3091.953714626143,\n",
       " -2010.6221011500706,\n",
       " -1617.4769112758217,\n",
       " -1324.7926820188725,\n",
       " -1137.8310068352973,\n",
       " -976.8096425091231,\n",
       " -860.8710682964269,\n",
       " -769.7084298913235]"
      ]
     },
     "execution_count": 19,
     "metadata": {},
     "output_type": "execute_result"
    }
   ],
   "source": [
    "scores = [kmeans.fit(vec_2d).score(vec_2d) for kmeans in kmeans_list]\n",
    "scores"
   ]
  },
  {
   "cell_type": "code",
   "execution_count": 20,
   "id": "6bac3a22",
   "metadata": {},
   "outputs": [
    {
     "data": {
      "image/png": "[encoded data removed]",
      "text/plain": [
       "<Figure size 432x288 with 1 Axes>"
      ]
     },
     "metadata": {
      "needs_background": "light"
     },
     "output_type": "display_data"
    }
   ],
   "source": [
    "plt.plot(range(1,10), scores)\n",
    "plt.xlabel('Cluster Count')\n",
    "plt.ylabel('Score')\n",
    "plt.title(\"Score vs. Cluster\")\n",
    "plt.show()"
   ]
  },
  {
   "cell_type": "code",
   "execution_count": 21,
   "id": "49a6f3da",
   "metadata": {},
   "outputs": [],
   "source": [
    "kmeans = KMeans(n_clusters=3, max_iter=1000, algorithm='auto')\n",
    "fit_result = kmeans.fit(vec_2d)\n",
    "\n",
    "preds = kmeans.predict(vec_2d)"
   ]
  },
  {
   "cell_type": "code",
   "execution_count": 22,
   "id": "61d370aa",
   "metadata": {
    "scrolled": true
   },
   "outputs": [
    {
     "data": {
      "text/plain": [
       "<matplotlib.collections.PathCollection at 0x7fe2d0a28b80>"
      ]
     },
     "execution_count": 22,
     "metadata": {},
     "output_type": "execute_result"
    },
    {
     "data": {
      "image/png": "[encoded data removed]",
      "text/plain": [
       "<Figure size 432x288 with 1 Axes>"
      ]
     },
     "metadata": {
      "needs_background": "light"
     },
     "output_type": "display_data"
    }
   ],
   "source": [
    "plt.scatter(vec_2d[:, 0], vec_2d[:, 1], c=preds, s=50, cmap='viridis')\n",
    "plt.scatter(kmeans.cluster_centers_[:,0],kmeans.cluster_centers_[:,1],c='red', s=50)"
   ]
  },
  {
   "cell_type": "markdown",
   "id": "662ed308",
   "metadata": {},
   "source": [
    "### Cluster centers"
   ]
  },
  {
   "cell_type": "code",
   "execution_count": 23,
   "id": "f271239c",
   "metadata": {
    "scrolled": true
   },
   "outputs": [
    {
     "data": {
      "text/plain": [
       "array([[-0.2686579 ,  0.28347225],\n",
       "       [-0.02891129, -0.45997434],\n",
       "       [ 0.97401921,  0.23816532]])"
      ]
     },
     "execution_count": 23,
     "metadata": {},
     "output_type": "execute_result"
    }
   ],
   "source": [
    "kmeans.cluster_centers_"
   ]
  },
  {
   "cell_type": "code",
   "execution_count": 24,
   "id": "d6e247f9",
   "metadata": {},
   "outputs": [],
   "source": [
    "def distance(p1, p2):\n",
    "    if len(p1) != len(p2):\n",
    "        raise ValueError(\"Invalid dimensions: dimensions do not match\") # invalid dimensions\n",
    "    return np.sqrt(np.sum((p1-p2)**2, axis=0))"
   ]
  },
  {
   "cell_type": "code",
   "execution_count": 25,
   "id": "6591c87e",
   "metadata": {},
   "outputs": [],
   "source": [
    "def find_closest_points(centers, points):\n",
    "    representatives = []\n",
    "    for center in centers:\n",
    "        closest = []\n",
    "        best_dist = 999\n",
    "        for point in points:\n",
    "            dist = distance(center, point)\n",
    "            if dist < best_dist:\n",
    "                best_dist = dist\n",
    "                closest = point\n",
    "        representatives.append(closest)\n",
    "    return representatives"
   ]
  },
  {
   "cell_type": "code",
   "execution_count": 26,
   "id": "ba31eaed",
   "metadata": {
    "scrolled": true
   },
   "outputs": [
    {
     "data": {
      "text/plain": [
       "array([[-0.26432333,  0.28178219],\n",
       "       [-0.02592949, -0.46620865],\n",
       "       [ 0.99000115,  0.22752336]])"
      ]
     },
     "execution_count": 26,
     "metadata": {},
     "output_type": "execute_result"
    }
   ],
   "source": [
    "represent_2d = np.array(find_closest_points(kmeans.cluster_centers_, vec_2d))\n",
    "represent_2d"
   ]
  },
  {
   "cell_type": "markdown",
   "id": "604964ef",
   "metadata": {},
   "source": [
    "Converting back to original space"
   ]
  },
  {
   "cell_type": "code",
   "execution_count": 27,
   "id": "0615bee1",
   "metadata": {},
   "outputs": [
    {
     "data": {
      "text/plain": [
       "array([ 0.00595972,  0.13606487, -0.08605688,  0.1914571 ,  0.13230453,\n",
       "       -0.32931754,  0.10007631,  0.25790483, -0.11890799, -0.20140523,\n",
       "        0.07875696, -0.17573659, -0.04366958, -0.02048289, -0.00973411,\n",
       "       -0.04082451,  0.13642429, -0.13485041, -0.09697223, -0.42101456,\n",
       "        0.14613814,  0.15220689, -0.03003895, -0.26491994, -0.03372057,\n",
       "       -0.03134695, -0.12012895,  0.006499  ,  0.03349418, -0.10049945,\n",
       "        0.02977916,  0.09155357, -0.09704386, -0.07605308, -0.11427281,\n",
       "        0.14257192,  0.03395619, -0.08063819,  0.11303277, -0.2879311 ,\n",
       "        0.04830545, -0.13278161, -0.02574344, -0.08324739,  0.17409875,\n",
       "        0.00382047, -0.28506771, -0.0938841 ,  0.13302495,  0.01273381,\n",
       "        0.04235962, -0.22643861, -0.0757939 , -0.04759091, -0.01588803,\n",
       "        0.10043509,  0.16239971,  0.02848076, -0.08718539,  0.05934184,\n",
       "        0.04982144, -0.05987016, -0.05831691,  0.10375121, -0.1811942 ,\n",
       "        0.17212644, -0.17222676,  0.11808252, -0.09781516,  0.0449302 ,\n",
       "       -0.20493359,  0.05773373,  0.12295293, -0.13229658,  0.07435493,\n",
       "       -0.05529368,  0.0651868 ,  0.02916484, -0.13013873, -0.03318035,\n",
       "       -0.23996693, -0.03620492, -0.17376479,  0.20446819,  0.08092337,\n",
       "       -0.06303038,  0.08562563,  0.09095035,  0.20175034,  0.13457702,\n",
       "        0.12306299,  0.11502193,  0.01524   ,  0.13964349,  0.2753203 ,\n",
       "        0.15245652,  0.04175251, -0.34024868, -0.0375948 ,  0.174865  ])"
      ]
     },
     "execution_count": 27,
     "metadata": {},
     "output_type": "execute_result"
    }
   ],
   "source": [
    "represent_2d_original_space = pca_2d.inverse_transform(represent_2d)\n",
    "represent_2d_original_space[0]"
   ]
  },
  {
   "cell_type": "code",
   "execution_count": 28,
   "id": "a5470dd1",
   "metadata": {},
   "outputs": [],
   "source": [
    "def closest_word_representation(rep_vec, word_vectors):\n",
    "    best_word_vec = word_vectors['the']\n",
    "    best_word = 'the'\n",
    "    best_dist = distance(word_vectors['the'], rep_vec)\n",
    "    for word in word_vectors:\n",
    "        d = distance(word_vectors[word], rep_vec)\n",
    "        if d < best_dist:\n",
    "            best_word_vec = word_vectors[word]\n",
    "            best_dist = d\n",
    "            best_word = word\n",
    "    return {best_word: best_word_vec}"
   ]
  },
  {
   "cell_type": "code",
   "execution_count": 29,
   "id": "c0c32719",
   "metadata": {
    "scrolled": false
   },
   "outputs": [
    {
     "data": {
      "text/plain": [
       "['rehearing', 'clubs', 'chonawee']"
      ]
     },
     "execution_count": 29,
     "metadata": {},
     "output_type": "execute_result"
    }
   ],
   "source": [
    "[list(closest_word_representation(rep_vec, word_to_vector).keys())[0] for rep_vec in represent_2d_original_space]"
   ]
  },
  {
   "cell_type": "markdown",
   "id": "f339586b",
   "metadata": {},
   "source": [
    "## 3 Dimensional"
   ]
  },
  {
   "cell_type": "code",
   "execution_count": 30,
   "id": "9eb5c58b",
   "metadata": {},
   "outputs": [],
   "source": [
    "from sklearn.decomposition import PCA\n",
    "\n",
    "pca_3d = PCA(n_components=4) # fit to 3 dim\n",
    "vec_3d = pca_3d.fit_transform([model.wv[i] for i in range(len(model.wv))]) # apply fit"
   ]
  },
  {
   "cell_type": "markdown",
   "id": "2b66ee6b",
   "metadata": {},
   "source": [
    "### Elbow Method"
   ]
  },
  {
   "cell_type": "code",
   "execution_count": 31,
   "id": "02bd5315",
   "metadata": {},
   "outputs": [
    {
     "data": {
      "text/plain": [
       "[KMeans(max_iter=1000, n_clusters=1),\n",
       " KMeans(max_iter=1000, n_clusters=2),\n",
       " KMeans(max_iter=1000, n_clusters=3),\n",
       " KMeans(max_iter=1000, n_clusters=4),\n",
       " KMeans(max_iter=1000, n_clusters=5),\n",
       " KMeans(max_iter=1000, n_clusters=6),\n",
       " KMeans(max_iter=1000, n_clusters=7),\n",
       " KMeans(max_iter=1000),\n",
       " KMeans(max_iter=1000, n_clusters=9)]"
      ]
     },
     "execution_count": 31,
     "metadata": {},
     "output_type": "execute_result"
    }
   ],
   "source": [
    "kmeans_list_3d = [KMeans(n_clusters=n, max_iter=1000, algorithm='auto') for n in range(1,10)]\n",
    "kmeans_list_3d"
   ]
  },
  {
   "cell_type": "code",
   "execution_count": 32,
   "id": "cbc79e2f",
   "metadata": {},
   "outputs": [
    {
     "data": {
      "text/plain": [
       "[-6496.556356226277,\n",
       " -4999.444006181262,\n",
       " -3898.5447968568765,\n",
       " -3442.517144222304,\n",
       " -3077.762168646037,\n",
       " -2766.0028446102165,\n",
       " -2566.178538970884,\n",
       " -2401.7043776516975,\n",
       " -2269.025345126489]"
      ]
     },
     "execution_count": 32,
     "metadata": {},
     "output_type": "execute_result"
    }
   ],
   "source": [
    "scores_3d = [kmeans.fit(vec_3d).score(vec_3d) for kmeans in kmeans_list]\n",
    "scores_3d"
   ]
  },
  {
   "cell_type": "code",
   "execution_count": 33,
   "id": "89183955",
   "metadata": {},
   "outputs": [
    {
     "data": {
      "image/png": "[encoded data removed]",
      "text/plain": [
       "<Figure size 432x288 with 1 Axes>"
      ]
     },
     "metadata": {
      "needs_background": "light"
     },
     "output_type": "display_data"
    }
   ],
   "source": [
    "plt.plot(range(1,10), scores_3d)\n",
    "plt.xlabel('Cluster Count')\n",
    "plt.ylabel('Score')\n",
    "plt.title(\"Score vs. Cluster\")\n",
    "plt.show()"
   ]
  },
  {
   "cell_type": "code",
   "execution_count": 34,
   "id": "583d9c6c",
   "metadata": {},
   "outputs": [],
   "source": [
    "kmeans_3d = KMeans(n_clusters=3, max_iter=1000, algorithm='auto')\n",
    "fit_result = kmeans_3d.fit(vec_3d)\n",
    "\n",
    "preds = kmeans_3d.predict(vec_3d)"
   ]
  },
  {
   "cell_type": "code",
   "execution_count": 35,
   "id": "aae9b25e",
   "metadata": {
    "scrolled": false
   },
   "outputs": [
    {
     "data": {
      "image/png": "[encoded data removed]",
      "text/plain": [
       "<Figure size 432x288 with 1 Axes>"
      ]
     },
     "metadata": {
      "needs_background": "light"
     },
     "output_type": "display_data"
    }
   ],
   "source": [
    "ax = plt.axes(projection='3d')\n",
    "# Data for three-dimensional scattered points\n",
    "\n",
    "ax.scatter3D(vec_3d[:, 0], vec_3d[:, 1], vec_3d[:, 2], c=preds, cmap='viridis');\n",
    "ax.scatter3D(kmeans_3d.cluster_centers_[:,0],kmeans_3d.cluster_centers_[:,1],kmeans_3d.cluster_centers_[:,2], c='red', s=50)\n",
    "ax.view_init(30, 15)"
   ]
  },
  {
   "cell_type": "markdown",
   "id": "d3d1732d",
   "metadata": {},
   "source": [
    "### Cluster centers"
   ]
  },
  {
   "cell_type": "code",
   "execution_count": 36,
   "id": "035c00e7",
   "metadata": {
    "scrolled": false
   },
   "outputs": [
    {
     "data": {
      "text/plain": [
       "array([[-0.27299258,  0.28062981,  0.05413482, -0.00856698],\n",
       "       [-0.02566209, -0.45267041, -0.08708804,  0.01163106],\n",
       "       [ 0.97297285,  0.23547446,  0.04481997, -0.00154494]])"
      ]
     },
     "execution_count": 36,
     "metadata": {},
     "output_type": "execute_result"
    }
   ],
   "source": [
    "kmeans_3d.cluster_centers_"
   ]
  },
  {
   "cell_type": "code",
   "execution_count": 38,
   "id": "1c903dfa",
   "metadata": {},
   "outputs": [
    {
     "data": {
      "text/plain": [
       "[array([-0.3159377 ,  0.2635997 ,  0.07386795, -0.02711626]),\n",
       " array([-0.02117787, -0.41712552, -0.11407655,  0.05391379]),\n",
       " array([0.99247559, 0.2259012 , 0.03659512, 0.01526208])]"
      ]
     },
     "execution_count": 38,
     "metadata": {},
     "output_type": "execute_result"
    }
   ],
   "source": [
    "represent_3d = find_closest_points(kmeans_3d.cluster_centers_, vec_3d)\n",
    "represent_3d"
   ]
  },
  {
   "cell_type": "code",
   "execution_count": 39,
   "id": "5afae92a",
   "metadata": {},
   "outputs": [
    {
     "data": {
      "text/plain": [
       "array([ 1.30418950e-02,  1.27553401e-01, -8.95214339e-02,  2.03218250e-01,\n",
       "        1.28222323e-01, -3.25165106e-01,  1.27283077e-01,  2.60647960e-01,\n",
       "       -1.17140763e-01, -2.09550316e-01,  8.95828124e-02, -1.65989844e-01,\n",
       "       -4.64261834e-02, -2.67130203e-02, -1.37238086e-02, -4.71488571e-02,\n",
       "        1.42751492e-01, -1.14112163e-01, -1.05739562e-01, -4.23395020e-01,\n",
       "        1.37774614e-01,  1.44199163e-01, -1.94625142e-02, -2.58541782e-01,\n",
       "       -3.17849154e-02, -2.09515245e-02, -1.25069034e-01,  1.10443333e-02,\n",
       "        5.07938040e-02, -1.01760775e-01,  2.87349361e-02,  8.14163980e-02,\n",
       "       -8.27416015e-02, -8.50880442e-02, -1.14867600e-01,  1.24951111e-01,\n",
       "        4.74536859e-02, -7.47237190e-02,  1.16043254e-01, -2.91246198e-01,\n",
       "        5.73821206e-02, -1.37834243e-01, -2.91761847e-02, -8.28587605e-02,\n",
       "        1.57230234e-01, -3.51336145e-04, -2.97020256e-01, -1.02183938e-01,\n",
       "        1.24593445e-01,  3.49138756e-03,  4.12810086e-02, -2.35226534e-01,\n",
       "       -7.36807926e-02, -4.38988716e-02, -1.19891040e-02,  1.11840761e-01,\n",
       "        1.52676570e-01,  1.10512760e-02, -9.58029275e-02,  4.90464668e-02,\n",
       "        3.50589961e-02, -4.89018782e-02, -4.65868029e-02,  1.00961525e-01,\n",
       "       -1.79812016e-01,  1.69910485e-01, -1.83290251e-01,  1.29288135e-01,\n",
       "       -9.64602274e-02,  2.60213039e-02, -1.99055263e-01,  8.34288778e-02,\n",
       "        1.29180230e-01, -1.34434075e-01,  8.31028009e-02, -7.03608806e-02,\n",
       "        6.21975542e-02,  4.03704011e-02, -1.30104201e-01, -4.62836592e-02,\n",
       "       -2.52089301e-01, -3.01410549e-02, -1.80123605e-01,  2.12537522e-01,\n",
       "        8.05374918e-02, -7.08382060e-02,  9.52778365e-02,  8.37696494e-02,\n",
       "        1.93463582e-01,  1.33759239e-01,  1.12575390e-01,  1.18387316e-01,\n",
       "        1.46216003e-02,  1.36978076e-01,  2.82813287e-01,  1.53360642e-01,\n",
       "        1.80837404e-02, -3.46639241e-01, -4.76442681e-02,  1.76962867e-01])"
      ]
     },
     "execution_count": 39,
     "metadata": {},
     "output_type": "execute_result"
    }
   ],
   "source": [
    "represent_3d_original_space = pca_3d.inverse_transform(represent_3d)\n",
    "represent_3d_original_space[0]"
   ]
  },
  {
   "cell_type": "code",
   "execution_count": 40,
   "id": "4913140c",
   "metadata": {},
   "outputs": [
    {
     "data": {
      "text/plain": [
       "['rehearing', 'clubs', 'chonawee']"
      ]
     },
     "execution_count": 40,
     "metadata": {},
     "output_type": "execute_result"
    }
   ],
   "source": [
    "[list(closest_word_representation(rep_vec, word_to_vector).keys())[0] for rep_vec in represent_3d_original_space]"
   ]
  }
 ],
 "metadata": {
  "kernelspec": {
   "display_name": "Python 3 (ipykernel)",
   "language": "python",
   "name": "python3"
  },
  "language_info": {
   "codemirror_mode": {
    "name": "ipython",
    "version": 3
   },
   "file_extension": ".py",
   "mimetype": "text/x-python",
   "name": "python",
   "nbconvert_exporter": "python",
   "pygments_lexer": "ipython3",
   "version": "3.8.11"
  }
 },
 "nbformat": 4,
 "nbformat_minor": 5
}
