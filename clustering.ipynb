{
 "cells": [
  {
   "cell_type": "code",
   "execution_count": 1,
   "id": "c6494e37",
   "metadata": {},
   "outputs": [],
   "source": [
    "import numpy as np\n",
    "import pandas as pd\n",
    "import matplotlib.pyplot as plt\n",
    "import seaborn as sns\n",
    "%matplotlib inline"
   ]
  },
  {
   "cell_type": "code",
   "execution_count": 2,
   "id": "fb2be113",
   "metadata": {},
   "outputs": [
    {
     "data": {
      "text/html": [
       "<div>\n",
       "<style scoped>\n",
       "    .dataframe tbody tr th:only-of-type {\n",
       "        vertical-align: middle;\n",
       "    }\n",
       "\n",
       "    .dataframe tbody tr th {\n",
       "        vertical-align: top;\n",
       "    }\n",
       "\n",
       "    .dataframe thead th {\n",
       "        text-align: right;\n",
       "    }\n",
       "</style>\n",
       "<table border=\"1\" class=\"dataframe\">\n",
       "  <thead>\n",
       "    <tr style=\"text-align: right;\">\n",
       "      <th></th>\n",
       "      <th>email_text</th>\n",
       "    </tr>\n",
       "  </thead>\n",
       "  <tbody>\n",
       "    <tr>\n",
       "      <th>0</th>\n",
       "      <td>Here is our forecast</td>\n",
       "    </tr>\n",
       "    <tr>\n",
       "      <th>1</th>\n",
       "      <td>Jeff,\\n\\nIn light of the puny VAR allotments a...</td>\n",
       "    </tr>\n",
       "    <tr>\n",
       "      <th>2</th>\n",
       "      <td>Greg here are my questions regarding the cedar...</td>\n",
       "    </tr>\n",
       "    <tr>\n",
       "      <th>3</th>\n",
       "      <td>Is AMF willing to put up the additional earnes...</td>\n",
       "    </tr>\n",
       "    <tr>\n",
       "      <th>4</th>\n",
       "      <td>please send me their resumes</td>\n",
       "    </tr>\n",
       "    <tr>\n",
       "      <th>...</th>\n",
       "      <td>...</td>\n",
       "    </tr>\n",
       "    <tr>\n",
       "      <th>33528</th>\n",
       "      <td>Sundance 3:\\tAug. 16 to Sept. 13\\nSundance 4:\\...</td>\n",
       "    </tr>\n",
       "    <tr>\n",
       "      <th>33529</th>\n",
       "      <td>The canadian sap # is \\tp00565421\\nthe us sap ...</td>\n",
       "    </tr>\n",
       "    <tr>\n",
       "      <th>33530</th>\n",
       "      <td>yes</td>\n",
       "    </tr>\n",
       "    <tr>\n",
       "      <th>33531</th>\n",
       "      <td>One of us will attend</td>\n",
       "    </tr>\n",
       "    <tr>\n",
       "      <th>33532</th>\n",
       "      <td>yes thanks John</td>\n",
       "    </tr>\n",
       "  </tbody>\n",
       "</table>\n",
       "<p>33533 rows × 1 columns</p>\n",
       "</div>"
      ],
      "text/plain": [
       "                                              email_text\n",
       "0                                   Here is our forecast\n",
       "1      Jeff,\\n\\nIn light of the puny VAR allotments a...\n",
       "2      Greg here are my questions regarding the cedar...\n",
       "3      Is AMF willing to put up the additional earnes...\n",
       "4                           please send me their resumes\n",
       "...                                                  ...\n",
       "33528  Sundance 3:\\tAug. 16 to Sept. 13\\nSundance 4:\\...\n",
       "33529  The canadian sap # is \\tp00565421\\nthe us sap ...\n",
       "33530                                                yes\n",
       "33531                              One of us will attend\n",
       "33532                                    yes thanks John\n",
       "\n",
       "[33533 rows x 1 columns]"
      ]
     },
     "execution_count": 2,
     "metadata": {},
     "output_type": "execute_result"
    }
   ],
   "source": [
    "emails_df = pd.read_csv('data/cleaned_emails.csv', usecols=['email_text'])\n",
    "emails_df"
   ]
  },
  {
   "cell_type": "code",
   "execution_count": 3,
   "id": "be879298",
   "metadata": {},
   "outputs": [
    {
     "data": {
      "text/plain": [
       "0                                 Here is our forecast\n",
       "1    Jeff,\\n\\nIn light of the puny VAR allotments a...\n",
       "2    Greg here are my questions regarding the cedar...\n",
       "3    Is AMF willing to put up the additional earnes...\n",
       "4                         please send me their resumes\n",
       "Name: email_text, dtype: object"
      ]
     },
     "execution_count": 3,
     "metadata": {},
     "output_type": "execute_result"
    }
   ],
   "source": [
    "emails = emails_df['email_text']\n",
    "emails[:5]"
   ]
  },
  {
   "cell_type": "code",
   "execution_count": 4,
   "id": "bd93fa6a",
   "metadata": {},
   "outputs": [],
   "source": [
    "import nltk"
   ]
  },
  {
   "cell_type": "code",
   "execution_count": 7,
   "id": "08d264a5",
   "metadata": {},
   "outputs": [],
   "source": [
    "from sklearn.feature_extraction.text import TfidfVectorizer\n",
    "from sklearn.preprocessing import normalize\n",
    "\n",
    "tf_idf_vec = TfidfVectorizer(stop_words='english', max_features=10000)\n",
    "tf_idf_raw = tf_idf_vec.fit_transform(emails)\n",
    "tf_idf_normalized = normalize(tf_idf_raw)\n",
    "tf_idf = tf_idf_normalized.toarray()"
   ]
  },
  {
   "cell_type": "code",
   "execution_count": 12,
   "id": "9f96950b",
   "metadata": {},
   "outputs": [
    {
     "data": {
      "text/plain": [
       "Index(['00', '000', '0029', '005', '008', '00am', '00p', '00pm', '01', '0102',\n",
       "       ...\n",
       "       'zhiyun', 'zimin', 'zip', 'zipper', 'zivic', 'zone', 'zonecode',\n",
       "       'zones', 'zoo', 'zufferli'],\n",
       "      dtype='object', length=10000)"
      ]
     },
     "execution_count": 12,
     "metadata": {},
     "output_type": "execute_result"
    }
   ],
   "source": [
    "pd.DataFrame(tf_idf, columns=tf_idf_vec.get_feature_names()).columns"
   ]
  },
  {
   "cell_type": "code",
   "execution_count": 18,
   "id": "300a6efd",
   "metadata": {},
   "outputs": [],
   "source": [
    "from sklearn.decomposition import PCA\n",
    "\n",
    "pca = PCA(n_components=2) # fit to 2 dim\n",
    "tf_idf_2dim = pca.fit_transform(tf_idf) # apply fit"
   ]
  },
  {
   "cell_type": "code",
   "execution_count": 36,
   "id": "bf9031d7",
   "metadata": {},
   "outputs": [],
   "source": [
    "from sklearn.cluster import KMeans"
   ]
  },
  {
   "cell_type": "markdown",
   "id": "02cbddf3",
   "metadata": {},
   "source": [
    "### Elbow Method"
   ]
  },
  {
   "cell_type": "code",
   "execution_count": 31,
   "id": "7e651521",
   "metadata": {},
   "outputs": [
    {
     "data": {
      "text/plain": [
       "[KMeans(max_iter=1000, n_clusters=1),\n",
       " KMeans(max_iter=1000, n_clusters=2),\n",
       " KMeans(max_iter=1000, n_clusters=3),\n",
       " KMeans(max_iter=1000, n_clusters=4),\n",
       " KMeans(max_iter=1000, n_clusters=5),\n",
       " KMeans(max_iter=1000, n_clusters=6),\n",
       " KMeans(max_iter=1000, n_clusters=7),\n",
       " KMeans(max_iter=1000),\n",
       " KMeans(max_iter=1000, n_clusters=9)]"
      ]
     },
     "execution_count": 31,
     "metadata": {},
     "output_type": "execute_result"
    }
   ],
   "source": [
    "kmeans_list = [KMeans(n_clusters=n, max_iter=1000, algorithm='auto') for n in range(1,10)]\n",
    "kmeans_list"
   ]
  },
  {
   "cell_type": "code",
   "execution_count": 33,
   "id": "d1952542",
   "metadata": {},
   "outputs": [
    {
     "data": {
      "text/plain": [
       "[-1089.7298687020857,\n",
       " -528.8889829426258,\n",
       " -255.36594470565072,\n",
       " -129.55409903968737,\n",
       " -91.25271605663751,\n",
       " -63.454356834053634,\n",
       " -44.74459220976924,\n",
       " -34.035255794707105,\n",
       " -25.54674871595241]"
      ]
     },
     "execution_count": 33,
     "metadata": {},
     "output_type": "execute_result"
    }
   ],
   "source": [
    "scores = [kmeans.fit(tf_idf_2dim).score(tf_idf_2dim) for kmeans in kmeans_list]\n",
    "scores"
   ]
  },
  {
   "cell_type": "code",
   "execution_count": 35,
   "id": "6bac3a22",
   "metadata": {},
   "outputs": [
    {
     "data": {
      "image/png": "[encoded data removed]",
      "text/plain": [
       "<Figure size 432x288 with 1 Axes>"
      ]
     },
     "metadata": {
      "needs_background": "light"
     },
     "output_type": "display_data"
    }
   ],
   "source": [
    "plt.plot(range(1,10), scores)\n",
    "plt.xlabel('Cluster Count')\n",
    "plt.ylabel('Score')\n",
    "plt.title(\"Score vs. Cluster\")\n",
    "plt.show()"
   ]
  },
  {
   "cell_type": "code",
   "execution_count": 41,
   "id": "49a6f3da",
   "metadata": {},
   "outputs": [],
   "source": [
    "kmeans = KMeans(n_clusters=4, max_iter=1000, algorithm='auto')\n",
    "fit_result = kmeans.fit(tf_idf_2dim)\n",
    "\n",
    "preds = kmeans.predict(tf_idf_2dim)"
   ]
  },
  {
   "cell_type": "code",
   "execution_count": 42,
   "id": "61d370aa",
   "metadata": {},
   "outputs": [
    {
     "data": {
      "text/plain": [
       "<matplotlib.collections.PathCollection at 0x7ff468768340>"
      ]
     },
     "execution_count": 42,
     "metadata": {},
     "output_type": "execute_result"
    },
    {
     "data": {
      "image/png": "[encoded data removed]",
      "text/plain": [
       "<Figure size 432x288 with 1 Axes>"
      ]
     },
     "metadata": {
      "needs_background": "light"
     },
     "output_type": "display_data"
    }
   ],
   "source": [
    "plt.scatter(tf_idf_2dim[:, 0], tf_idf_2dim[:, 1], c=preds, s=50, cmap='viridis')"
   ]
  }
 ],
 "metadata": {
  "kernelspec": {
   "display_name": "Python 3 (ipykernel)",
   "language": "python",
   "name": "python3"
  },
  "language_info": {
   "codemirror_mode": {
    "name": "ipython",
    "version": 3
   },
   "file_extension": ".py",
   "mimetype": "text/x-python",
   "name": "python",
   "nbconvert_exporter": "python",
   "pygments_lexer": "ipython3",
   "version": "3.8.11"
  }
 },
 "nbformat": 4,
 "nbformat_minor": 5
}
