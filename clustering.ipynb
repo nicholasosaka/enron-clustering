{
 "cells": [
  {
   "cell_type": "code",
   "execution_count": 1,
   "id": "f4437634",
   "metadata": {},
   "outputs": [],
   "source": [
    "# only if needed\n",
    "#!python -m spacy download en_core_web_sm"
   ]
  },
  {
   "cell_type": "code",
   "execution_count": 2,
   "id": "c6494e37",
   "metadata": {},
   "outputs": [],
   "source": [
    "import spacy\n",
    "import random\n",
    "import numpy as np\n",
    "import pandas as pd\n",
    "import matplotlib.pyplot as plt\n",
    "from mpl_toolkits import mplot3d\n",
    "import seaborn as sns\n",
    "%matplotlib inline\n",
    "\n",
    "# %matplotlib widget\n",
    "nlp = spacy.load(\"en_core_web_sm\")"
   ]
  },
  {
   "cell_type": "code",
   "execution_count": 3,
   "id": "fb2be113",
   "metadata": {},
   "outputs": [
    {
     "data": {
      "text/html": [
       "<div>\n",
       "<style scoped>\n",
       "    .dataframe tbody tr th:only-of-type {\n",
       "        vertical-align: middle;\n",
       "    }\n",
       "\n",
       "    .dataframe tbody tr th {\n",
       "        vertical-align: top;\n",
       "    }\n",
       "\n",
       "    .dataframe thead th {\n",
       "        text-align: right;\n",
       "    }\n",
       "</style>\n",
       "<table border=\"1\" class=\"dataframe\">\n",
       "  <thead>\n",
       "    <tr style=\"text-align: right;\">\n",
       "      <th></th>\n",
       "      <th>email_text</th>\n",
       "    </tr>\n",
       "  </thead>\n",
       "  <tbody>\n",
       "    <tr>\n",
       "      <th>0</th>\n",
       "      <td>Here is our forecast</td>\n",
       "    </tr>\n",
       "    <tr>\n",
       "      <th>1</th>\n",
       "      <td>Jeff,\\n\\nIn light of the puny VAR allotments a...</td>\n",
       "    </tr>\n",
       "    <tr>\n",
       "      <th>2</th>\n",
       "      <td>Greg here are my questions regarding the cedar...</td>\n",
       "    </tr>\n",
       "    <tr>\n",
       "      <th>3</th>\n",
       "      <td>Is AMF willing to put up the additional earnes...</td>\n",
       "    </tr>\n",
       "    <tr>\n",
       "      <th>4</th>\n",
       "      <td>please send me their resumes</td>\n",
       "    </tr>\n",
       "    <tr>\n",
       "      <th>...</th>\n",
       "      <td>...</td>\n",
       "    </tr>\n",
       "    <tr>\n",
       "      <th>33528</th>\n",
       "      <td>Sundance 3:\\tAug. 16 to Sept. 13\\nSundance 4:\\...</td>\n",
       "    </tr>\n",
       "    <tr>\n",
       "      <th>33529</th>\n",
       "      <td>The canadian sap # is \\tp00565421\\nthe us sap ...</td>\n",
       "    </tr>\n",
       "    <tr>\n",
       "      <th>33530</th>\n",
       "      <td>yes</td>\n",
       "    </tr>\n",
       "    <tr>\n",
       "      <th>33531</th>\n",
       "      <td>One of us will attend</td>\n",
       "    </tr>\n",
       "    <tr>\n",
       "      <th>33532</th>\n",
       "      <td>yes thanks John</td>\n",
       "    </tr>\n",
       "  </tbody>\n",
       "</table>\n",
       "<p>33533 rows × 1 columns</p>\n",
       "</div>"
      ],
      "text/plain": [
       "                                              email_text\n",
       "0                                   Here is our forecast\n",
       "1      Jeff,\\n\\nIn light of the puny VAR allotments a...\n",
       "2      Greg here are my questions regarding the cedar...\n",
       "3      Is AMF willing to put up the additional earnes...\n",
       "4                           please send me their resumes\n",
       "...                                                  ...\n",
       "33528  Sundance 3:\\tAug. 16 to Sept. 13\\nSundance 4:\\...\n",
       "33529  The canadian sap # is \\tp00565421\\nthe us sap ...\n",
       "33530                                                yes\n",
       "33531                              One of us will attend\n",
       "33532                                    yes thanks John\n",
       "\n",
       "[33533 rows x 1 columns]"
      ]
     },
     "execution_count": 3,
     "metadata": {},
     "output_type": "execute_result"
    }
   ],
   "source": [
    "emails_df = pd.read_csv('data/cleaned_emails.csv', usecols=['email_text'])\n",
    "emails_df"
   ]
  },
  {
   "cell_type": "code",
   "execution_count": 4,
   "id": "be879298",
   "metadata": {},
   "outputs": [
    {
     "data": {
      "text/plain": [
       "0                                 Here is our forecast\n",
       "1    Jeff,\\n\\nIn light of the puny VAR allotments a...\n",
       "2    Greg here are my questions regarding the cedar...\n",
       "3    Is AMF willing to put up the additional earnes...\n",
       "4                         please send me their resumes\n",
       "Name: email_text, dtype: object"
      ]
     },
     "execution_count": 4,
     "metadata": {},
     "output_type": "execute_result"
    }
   ],
   "source": [
    "emails = emails_df['email_text']\n",
    "emails[:5]"
   ]
  },
  {
   "cell_type": "code",
   "execution_count": 5,
   "id": "d53b571f",
   "metadata": {},
   "outputs": [],
   "source": [
    "def preprocess(email):\n",
    "    return email.lower()"
   ]
  },
  {
   "cell_type": "code",
   "execution_count": 6,
   "id": "f6f54382",
   "metadata": {},
   "outputs": [
    {
     "name": "stdout",
     "output_type": "stream",
     "text": [
      "Raw:\n",
      "Thanks\n",
      "\n",
      "Processed:\n",
      "thanks\n"
     ]
    }
   ],
   "source": [
    "email = random.choice(emails)\n",
    "print(f\"Raw:\\n{email}\")\n",
    "print()\n",
    "print(f\"Processed:\\n{preprocess(email)}\")"
   ]
  },
  {
   "cell_type": "code",
   "execution_count": 7,
   "id": "9b690310",
   "metadata": {},
   "outputs": [],
   "source": [
    "emails_processed = []\n",
    "for email in emails:\n",
    "    emails_processed.append(preprocess(email))"
   ]
  },
  {
   "cell_type": "code",
   "execution_count": 8,
   "id": "08d264a5",
   "metadata": {},
   "outputs": [],
   "source": [
    "from sklearn.feature_extraction.text import TfidfVectorizer\n",
    "from sklearn.preprocessing import normalize\n",
    "\n",
    "tf_idf_vec = TfidfVectorizer(stop_words='english', max_features=10000)\n",
    "tf_idf_raw = tf_idf_vec.fit_transform(emails_processed)\n",
    "# tf_idf_normalized = normalize(tf_idf_raw)\n",
    "# tf_idf = tf_idf_normalized.toarray()\n",
    "tf_idf = tf_idf_raw.toarray()"
   ]
  },
  {
   "cell_type": "code",
   "execution_count": 9,
   "id": "9f96950b",
   "metadata": {},
   "outputs": [
    {
     "data": {
      "text/plain": [
       "Index(['00', '000', '0029', '005', '008', '00am', '00p', '00pm', '01', '0102',\n",
       "       ...\n",
       "       'zhiyun', 'zimin', 'zip', 'zipper', 'zivic', 'zone', 'zonecode',\n",
       "       'zones', 'zoo', 'zufferli'],\n",
       "      dtype='object', length=10000)"
      ]
     },
     "execution_count": 9,
     "metadata": {},
     "output_type": "execute_result"
    }
   ],
   "source": [
    "pd.DataFrame(tf_idf, columns=tf_idf_vec.get_feature_names()).columns"
   ]
  },
  {
   "cell_type": "markdown",
   "id": "ffe5e104",
   "metadata": {},
   "source": [
    "## 2 Dimensional"
   ]
  },
  {
   "cell_type": "code",
   "execution_count": 10,
   "id": "300a6efd",
   "metadata": {},
   "outputs": [],
   "source": [
    "from sklearn.decomposition import PCA\n",
    "\n",
    "pca_2d = PCA(n_components=2) # fit to 2 dim\n",
    "tf_idf_2dim = pca_2d.fit_transform(tf_idf) # apply fit"
   ]
  },
  {
   "cell_type": "code",
   "execution_count": 11,
   "id": "bf9031d7",
   "metadata": {},
   "outputs": [],
   "source": [
    "from sklearn.cluster import KMeans"
   ]
  },
  {
   "cell_type": "markdown",
   "id": "02cbddf3",
   "metadata": {},
   "source": [
    "### Elbow Method"
   ]
  },
  {
   "cell_type": "code",
   "execution_count": 12,
   "id": "7e651521",
   "metadata": {},
   "outputs": [
    {
     "data": {
      "text/plain": [
       "[KMeans(max_iter=1000, n_clusters=1),\n",
       " KMeans(max_iter=1000, n_clusters=2),\n",
       " KMeans(max_iter=1000, n_clusters=3),\n",
       " KMeans(max_iter=1000, n_clusters=4),\n",
       " KMeans(max_iter=1000, n_clusters=5),\n",
       " KMeans(max_iter=1000, n_clusters=6),\n",
       " KMeans(max_iter=1000, n_clusters=7),\n",
       " KMeans(max_iter=1000),\n",
       " KMeans(max_iter=1000, n_clusters=9)]"
      ]
     },
     "execution_count": 12,
     "metadata": {},
     "output_type": "execute_result"
    }
   ],
   "source": [
    "kmeans_list = [KMeans(n_clusters=n, max_iter=1000, algorithm='auto') for n in range(1,10)]\n",
    "kmeans_list"
   ]
  },
  {
   "cell_type": "code",
   "execution_count": 13,
   "id": "d1952542",
   "metadata": {},
   "outputs": [
    {
     "data": {
      "text/plain": [
       "[-1089.7298684766743,\n",
       " -528.8890856702386,\n",
       " -255.3656344075853,\n",
       " -129.55327044485932,\n",
       " -91.2500136884121,\n",
       " -63.45423756885242,\n",
       " -44.71347813401786,\n",
       " -34.035245116600144,\n",
       " -25.54771195627104]"
      ]
     },
     "execution_count": 13,
     "metadata": {},
     "output_type": "execute_result"
    }
   ],
   "source": [
    "scores = [kmeans.fit(tf_idf_2dim).score(tf_idf_2dim) for kmeans in kmeans_list]\n",
    "scores"
   ]
  },
  {
   "cell_type": "code",
   "execution_count": 14,
   "id": "6bac3a22",
   "metadata": {},
   "outputs": [
    {
     "data": {
      "image/png": "[encoded data removed]",
      "text/plain": [
       "<Figure size 432x288 with 1 Axes>"
      ]
     },
     "metadata": {
      "needs_background": "light"
     },
     "output_type": "display_data"
    }
   ],
   "source": [
    "plt.plot(range(1,10), scores)\n",
    "plt.xlabel('Cluster Count')\n",
    "plt.ylabel('Score')\n",
    "plt.title(\"Score vs. Cluster\")\n",
    "plt.show()"
   ]
  },
  {
   "cell_type": "code",
   "execution_count": 15,
   "id": "49a6f3da",
   "metadata": {},
   "outputs": [],
   "source": [
    "kmeans = KMeans(n_clusters=4, max_iter=1000, algorithm='auto')\n",
    "fit_result = kmeans.fit(tf_idf_2dim)\n",
    "\n",
    "preds = kmeans.predict(tf_idf_2dim)"
   ]
  },
  {
   "cell_type": "code",
   "execution_count": 16,
   "id": "61d370aa",
   "metadata": {
    "scrolled": true
   },
   "outputs": [
    {
     "data": {
      "text/plain": [
       "<matplotlib.collections.PathCollection at 0x7faa04f0c610>"
      ]
     },
     "execution_count": 16,
     "metadata": {},
     "output_type": "execute_result"
    },
    {
     "data": {
      "image/png": "[encoded data removed]",
      "text/plain": [
       "<Figure size 432x288 with 1 Axes>"
      ]
     },
     "metadata": {
      "needs_background": "light"
     },
     "output_type": "display_data"
    }
   ],
   "source": [
    "plt.scatter(tf_idf_2dim[:, 0], tf_idf_2dim[:, 1], c=preds, s=50, cmap='viridis')\n",
    "plt.scatter(kmeans.cluster_centers_[:,0],kmeans.cluster_centers_[:,1],c='red', s=50)"
   ]
  },
  {
   "cell_type": "markdown",
   "id": "662ed308",
   "metadata": {},
   "source": [
    "### Cluster centers"
   ]
  },
  {
   "cell_type": "code",
   "execution_count": 17,
   "id": "f271239c",
   "metadata": {
    "scrolled": true
   },
   "outputs": [
    {
     "data": {
      "text/plain": [
       "array([[-0.00701844,  0.14873101],\n",
       "       [-0.02342729, -0.03342052],\n",
       "       [ 0.80198619, -0.02149791],\n",
       "       [ 0.01391004,  0.94470001]])"
      ]
     },
     "execution_count": 17,
     "metadata": {},
     "output_type": "execute_result"
    }
   ],
   "source": [
    "kmeans.cluster_centers_"
   ]
  },
  {
   "cell_type": "code",
   "execution_count": 18,
   "id": "d6e247f9",
   "metadata": {},
   "outputs": [],
   "source": [
    "def distance(p1, p2):\n",
    "    if len(p1) != len(p2):\n",
    "        raise ValueError(\"Invalid dimensions: dimensions do not match\") # invalid dimensions\n",
    "    return np.sqrt(np.sum((p1-p2)**2, axis=0))"
   ]
  },
  {
   "cell_type": "code",
   "execution_count": 19,
   "id": "6591c87e",
   "metadata": {},
   "outputs": [],
   "source": [
    "def find_closest_points(centers, points):\n",
    "    representatives = []\n",
    "    for center in centers:\n",
    "        closest = []\n",
    "        best_dist = 999\n",
    "        for point in points:\n",
    "            dist = distance(center, point)\n",
    "            if dist < best_dist:\n",
    "                best_dist = dist\n",
    "                closest = point\n",
    "        representatives.append(closest)\n",
    "    return representatives"
   ]
  },
  {
   "cell_type": "code",
   "execution_count": 20,
   "id": "ba31eaed",
   "metadata": {
    "scrolled": true
   },
   "outputs": [
    {
     "data": {
      "text/plain": [
       "[array([-0.00489835,  0.14919406]),\n",
       " array([-0.0233715 , -0.03338406]),\n",
       " array([ 0.7515622 , -0.03702293]),\n",
       " array([0.01402496, 0.94588956])]"
      ]
     },
     "execution_count": 20,
     "metadata": {},
     "output_type": "execute_result"
    }
   ],
   "source": [
    "represent_2d = find_closest_points(kmeans.cluster_centers_, tf_idf_2dim)\n",
    "represent_2d"
   ]
  },
  {
   "cell_type": "markdown",
   "id": "604964ef",
   "metadata": {},
   "source": [
    "Converting back to original space"
   ]
  },
  {
   "cell_type": "code",
   "execution_count": 21,
   "id": "0615bee1",
   "metadata": {},
   "outputs": [
    {
     "data": {
      "text/plain": [
       "array([[ 4.78677614e-03,  2.16470362e-03,  5.24436679e-05, ...,\n",
       "         2.57613574e-05,  3.26467604e-05,  1.30865065e-04],\n",
       "       [ 6.02506960e-03,  3.30594837e-03,  8.84135361e-05, ...,\n",
       "         3.50822315e-05,  6.84188163e-05,  2.04686260e-04],\n",
       "       [ 1.66652861e-04,  9.24686291e-05,  2.93277599e-05, ...,\n",
       "        -5.87705485e-06, -1.15205820e-05, -2.33428065e-06],\n",
       "       [-1.48544527e-04, -2.55773125e-03, -9.97558628e-05, ...,\n",
       "        -1.16374369e-05, -1.17030722e-04, -1.74671771e-04]])"
      ]
     },
     "execution_count": 21,
     "metadata": {},
     "output_type": "execute_result"
    }
   ],
   "source": [
    "represent_2d_original_space = pca_2d.inverse_transform(represent_2d)\n",
    "represent_2d_original_space"
   ]
  },
  {
   "cell_type": "markdown",
   "id": "f339586b",
   "metadata": {},
   "source": [
    "## 3 Dimensional"
   ]
  },
  {
   "cell_type": "code",
   "execution_count": 22,
   "id": "9eb5c58b",
   "metadata": {},
   "outputs": [],
   "source": [
    "from sklearn.decomposition import PCA\n",
    "\n",
    "pca_3d = PCA(n_components=4) # fit to 3 dim\n",
    "tf_idf_3dim = pca_3d.fit_transform(tf_idf) # apply fit"
   ]
  },
  {
   "cell_type": "markdown",
   "id": "2b66ee6b",
   "metadata": {},
   "source": [
    "### Elbow Method"
   ]
  },
  {
   "cell_type": "code",
   "execution_count": 23,
   "id": "02bd5315",
   "metadata": {},
   "outputs": [
    {
     "data": {
      "text/plain": [
       "[KMeans(max_iter=1000, n_clusters=1),\n",
       " KMeans(max_iter=1000, n_clusters=2),\n",
       " KMeans(max_iter=1000, n_clusters=3),\n",
       " KMeans(max_iter=1000, n_clusters=4),\n",
       " KMeans(max_iter=1000, n_clusters=5),\n",
       " KMeans(max_iter=1000, n_clusters=6),\n",
       " KMeans(max_iter=1000, n_clusters=7),\n",
       " KMeans(max_iter=1000),\n",
       " KMeans(max_iter=1000, n_clusters=9)]"
      ]
     },
     "execution_count": 23,
     "metadata": {},
     "output_type": "execute_result"
    }
   ],
   "source": [
    "kmeans_list_3d = [KMeans(n_clusters=n, max_iter=1000, algorithm='auto') for n in range(1,10)]\n",
    "kmeans_list_3d"
   ]
  },
  {
   "cell_type": "code",
   "execution_count": 24,
   "id": "cbc79e2f",
   "metadata": {},
   "outputs": [
    {
     "data": {
      "text/plain": [
       "[-1565.3843342303398,\n",
       " -1004.4787381188605,\n",
       " -730.3972814353835,\n",
       " -522.4260803869571,\n",
       " -373.94490823805114,\n",
       " -252.25898920206635,\n",
       " -214.81723934251877,\n",
       " -182.22974480760095,\n",
       " -155.32038723934124]"
      ]
     },
     "execution_count": 24,
     "metadata": {},
     "output_type": "execute_result"
    }
   ],
   "source": [
    "scores_3d = [kmeans.fit(tf_idf_3dim).score(tf_idf_3dim) for kmeans in kmeans_list]\n",
    "scores_3d"
   ]
  },
  {
   "cell_type": "code",
   "execution_count": 25,
   "id": "89183955",
   "metadata": {},
   "outputs": [
    {
     "data": {
      "image/png": "[encoded data removed]",
      "text/plain": [
       "<Figure size 432x288 with 1 Axes>"
      ]
     },
     "metadata": {
      "needs_background": "light"
     },
     "output_type": "display_data"
    }
   ],
   "source": [
    "plt.plot(range(1,10), scores_3d)\n",
    "plt.xlabel('Cluster Count')\n",
    "plt.ylabel('Score')\n",
    "plt.title(\"Score vs. Cluster\")\n",
    "plt.show()"
   ]
  },
  {
   "cell_type": "code",
   "execution_count": 26,
   "id": "583d9c6c",
   "metadata": {},
   "outputs": [],
   "source": [
    "kmeans_3d = KMeans(n_clusters=4, max_iter=1000, algorithm='auto')\n",
    "fit_result = kmeans_3d.fit(tf_idf_3dim)\n",
    "\n",
    "preds = kmeans_3d.predict(tf_idf_3dim)"
   ]
  },
  {
   "cell_type": "code",
   "execution_count": 27,
   "id": "aae9b25e",
   "metadata": {
    "scrolled": false
   },
   "outputs": [
    {
     "data": {
      "text/plain": [
       "<mpl_toolkits.mplot3d.art3d.Path3DCollection at 0x7faa0539b5b0>"
      ]
     },
     "execution_count": 27,
     "metadata": {},
     "output_type": "execute_result"
    },
    {
     "data": {
      "image/png": "[encoded data removed]",
      "text/plain": [
       "<Figure size 432x288 with 1 Axes>"
      ]
     },
     "metadata": {
      "needs_background": "light"
     },
     "output_type": "display_data"
    }
   ],
   "source": [
    "ax = plt.axes(projection='3d')\n",
    "# Data for three-dimensional scattered points\n",
    "\n",
    "ax.scatter3D(tf_idf_3dim[:, 0], tf_idf_3dim[:, 1], tf_idf_3dim[:, 2], c=preds, cmap='viridis');\n",
    "ax.scatter3D(kmeans_3d.cluster_centers_[:,0],kmeans_3d.cluster_centers_[:,1],kmeans_3d.cluster_centers_[:,2], c='red', s=50)"
   ]
  },
  {
   "cell_type": "markdown",
   "id": "d3d1732d",
   "metadata": {},
   "source": [
    "### Cluster centers"
   ]
  },
  {
   "cell_type": "code",
   "execution_count": 28,
   "id": "035c00e7",
   "metadata": {
    "scrolled": true
   },
   "outputs": [
    {
     "data": {
      "text/plain": [
       "array([[-3.72454735e-02, -4.94439452e-02,  4.48903969e-01,\n",
       "         9.54050557e-03],\n",
       "       [-2.08778813e-02, -8.11716645e-03, -1.48498228e-02,\n",
       "        -3.48342703e-04],\n",
       "       [ 7.97368968e-01, -1.93339800e-02,  8.49644456e-03,\n",
       "        -1.50153507e-03],\n",
       "       [ 1.45589736e-02,  8.45478185e-01,  3.73086930e-02,\n",
       "         7.32728168e-03]])"
      ]
     },
     "execution_count": 28,
     "metadata": {},
     "output_type": "execute_result"
    }
   ],
   "source": [
    "kmeans_3d.cluster_centers_"
   ]
  },
  {
   "cell_type": "code",
   "execution_count": 29,
   "id": "1c903dfa",
   "metadata": {},
   "outputs": [
    {
     "data": {
      "text/plain": [
       "[array([-0.03696269, -0.06237587,  0.44431943,  0.02012135]),\n",
       " array([-0.0223643 , -0.0072532 , -0.01567282,  0.00263581]),\n",
       " array([ 0.75156347, -0.03702192, -0.00373762, -0.01656486]),\n",
       " array([0.01402511, 0.94588797, 0.04695728, 0.01123191])]"
      ]
     },
     "execution_count": 29,
     "metadata": {},
     "output_type": "execute_result"
    }
   ],
   "source": [
    "represent_3d = find_closest_points(kmeans_3d.cluster_centers_, tf_idf_3dim)\n",
    "represent_3d"
   ]
  },
  {
   "cell_type": "code",
   "execution_count": 30,
   "id": "5afae92a",
   "metadata": {},
   "outputs": [
    {
     "data": {
      "text/plain": [
       "array([[ 1.61373630e-03,  2.41326572e-03,  1.08157222e-04, ...,\n",
       "         5.20166656e-06, -2.76203166e-05,  1.55296959e-04],\n",
       "       [ 5.99735280e-03,  3.17682841e-03,  8.24059091e-05, ...,\n",
       "         3.47245013e-05,  6.83910532e-05,  1.96455148e-04],\n",
       "       [ 3.44891151e-04,  1.60983513e-04,  3.17640966e-05, ...,\n",
       "        -4.44839731e-06, -1.69989232e-05, -1.96107399e-08],\n",
       "       [-7.22782544e-04, -2.70875933e-03, -9.97735744e-05, ...,\n",
       "        -1.56563040e-05, -1.24385838e-04, -1.82431591e-04]])"
      ]
     },
     "execution_count": 30,
     "metadata": {},
     "output_type": "execute_result"
    }
   ],
   "source": [
    "represent_3d_original_space = pca_3d.inverse_transform(represent_3d)\n",
    "represent_3d_original_space"
   ]
  },
  {
   "cell_type": "code",
   "execution_count": null,
   "id": "6bdc99e7",
   "metadata": {},
   "outputs": [],
   "source": []
  }
 ],
 "metadata": {
  "kernelspec": {
   "display_name": "Python 3 (ipykernel)",
   "language": "python",
   "name": "python3"
  },
  "language_info": {
   "codemirror_mode": {
    "name": "ipython",
    "version": 3
   },
   "file_extension": ".py",
   "mimetype": "text/x-python",
   "name": "python",
   "nbconvert_exporter": "python",
   "pygments_lexer": "ipython3",
   "version": "3.8.11"
  }
 },
 "nbformat": 4,
 "nbformat_minor": 5
}
