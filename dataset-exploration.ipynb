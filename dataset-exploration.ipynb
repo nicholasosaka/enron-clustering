{
 "cells": [
  {
   "cell_type": "code",
   "execution_count": 1,
   "id": "fd537bbb",
   "metadata": {},
   "outputs": [],
   "source": [
    "import os\n",
    "import re\n",
    "import pandas as pd\n",
    "from spacy.lang.en import English\n",
    "import random"
   ]
  },
  {
   "cell_type": "code",
   "execution_count": 2,
   "id": "f493f623",
   "metadata": {},
   "outputs": [],
   "source": [
    "MAIL_DIR = './maildir/'"
   ]
  },
  {
   "cell_type": "code",
   "execution_count": 3,
   "id": "03c6cfdc",
   "metadata": {
    "scrolled": false
   },
   "outputs": [
    {
     "data": {
      "text/plain": [
       "['allen-p/sent_items/', 'arnold-j/sent_items/', 'arora-h/sent_items/']"
      ]
     },
     "execution_count": 3,
     "metadata": {},
     "output_type": "execute_result"
    }
   ],
   "source": [
    "maildirs = !ls -l $MAIL_DIR\n",
    "maildirs.pop(0)\n",
    "maildirs = [line.split(' ')[-1] + \"/sent_items/\" for line in maildirs]\n",
    "maildirs[:3]"
   ]
  },
  {
   "cell_type": "code",
   "execution_count": 4,
   "id": "5b09806b",
   "metadata": {
    "scrolled": false
   },
   "outputs": [
    {
     "name": "stdout",
     "output_type": "stream",
     "text": [
      "SKIPPING: ./maildir/dickson-s/sent_items/ -- no such directory\n",
      "SKIPPING: ./maildir/fossum-d/sent_items/ -- no such directory\n",
      "SKIPPING: ./maildir/guzman-m/sent_items/ -- no such directory\n",
      "SKIPPING: ./maildir/hain-m/sent_items/ -- no such directory\n",
      "SKIPPING: ./maildir/harris-s/sent_items/ -- no such directory\n",
      "SKIPPING: ./maildir/hyvl-d/sent_items/ -- no such directory\n",
      "Unicode error for ./maildir/kaminski-v/sent_items/2524.\n",
      "SKIPPING: ./maildir/linder-e/sent_items/ -- no such directory\n",
      "SKIPPING: ./maildir/merriss-s/sent_items/ -- no such directory\n",
      "SKIPPING: ./maildir/rodrique-r/sent_items/ -- no such directory\n",
      "SKIPPING: ./maildir/south-s/sent_items/ -- no such directory\n",
      "SKIPPING: ./maildir/stclair-c/sent_items/ -- no such directory\n",
      "SKIPPING: ./maildir/stokley-c/sent_items/ -- no such directory\n",
      "SKIPPING: ./maildir/symes-k/sent_items/ -- no such directory\n",
      "SKIPPING: ./maildir/whalley-l/sent_items/ -- no such directory\n"
     ]
    }
   ],
   "source": [
    "unclean_emails = []\n",
    "for maildir in maildirs:\n",
    "    if os.path.exists(MAIL_DIR + maildir):\n",
    "        for doc_name in os.listdir(MAIL_DIR + maildir):\n",
    "            if os.path.isfile(MAIL_DIR + maildir + doc_name):\n",
    "                try:\n",
    "                    with open(MAIL_DIR + maildir + doc_name, \"r\") as f:\n",
    "                        unclean_emails.append(f.read())\n",
    "                except FileNotFoundError:\n",
    "                    continue\n",
    "                except UnicodeDecodeError:\n",
    "                    print(f\"Unicode error for {MAIL_DIR + maildir + doc_name}\")\n",
    "    else:\n",
    "        print(f\"SKIPPING: {MAIL_DIR + maildir} -- no such directory\")"
   ]
  },
  {
   "cell_type": "code",
   "execution_count": 5,
   "id": "a9d9d7c6",
   "metadata": {},
   "outputs": [],
   "source": [
    "def clean_email(text):\n",
    "    cleaned = []\n",
    "    lines = text.split(\"\\n\")\n",
    "\n",
    "    header_end_index = -1\n",
    "    original_message_index = -1\n",
    "    original_message_found = False\n",
    "    \n",
    "    for index, line in enumerate(lines):\n",
    "        if \"X-FileName\" in line:\n",
    "            header_end_index = index\n",
    "        if \"-----\" in  line and not original_message_found:\n",
    "            original_message_index = index\n",
    "            original_message_found = True\n",
    "\n",
    "#     return lines[header_end_index+1:len(lines)]\n",
    "    return \"\\n\".join(lines[header_end_index+1:original_message_index if original_message_index != -1 else len(lines)]).strip()"
   ]
  },
  {
   "cell_type": "code",
   "execution_count": 6,
   "id": "e55097a6",
   "metadata": {
    "scrolled": true
   },
   "outputs": [
    {
     "name": "stdout",
     "output_type": "stream",
     "text": [
      "37919\n",
      "33533\n"
     ]
    }
   ],
   "source": [
    "cleaned_emails = [clean_email(email) for email in unclean_emails]\n",
    "print(len(cleaned_emails))\n",
    "cleaned_emails = [email for email in cleaned_emails if len(email.strip()) > 0]\n",
    "print(len(cleaned_emails))"
   ]
  },
  {
   "cell_type": "code",
   "execution_count": 7,
   "id": "377e58bb",
   "metadata": {},
   "outputs": [
    {
     "name": "stdout",
     "output_type": "stream",
     "text": [
      "Been there, done that.\n",
      "\n",
      "This doesn't allow us to you have to be based in London!!!\n"
     ]
    }
   ],
   "source": [
    "print(random.choice(cleaned_emails))"
   ]
  },
  {
   "cell_type": "code",
   "execution_count": 8,
   "id": "62842efe",
   "metadata": {},
   "outputs": [
    {
     "data": {
      "text/html": [
       "<div>\n",
       "<style scoped>\n",
       "    .dataframe tbody tr th:only-of-type {\n",
       "        vertical-align: middle;\n",
       "    }\n",
       "\n",
       "    .dataframe tbody tr th {\n",
       "        vertical-align: top;\n",
       "    }\n",
       "\n",
       "    .dataframe thead th {\n",
       "        text-align: right;\n",
       "    }\n",
       "</style>\n",
       "<table border=\"1\" class=\"dataframe\">\n",
       "  <thead>\n",
       "    <tr style=\"text-align: right;\">\n",
       "      <th></th>\n",
       "      <th>email_text</th>\n",
       "    </tr>\n",
       "  </thead>\n",
       "  <tbody>\n",
       "    <tr>\n",
       "      <th>0</th>\n",
       "      <td>Here is our forecast</td>\n",
       "    </tr>\n",
       "    <tr>\n",
       "      <th>1</th>\n",
       "      <td>Jeff,\\n\\nIn light of the puny VAR allotments a...</td>\n",
       "    </tr>\n",
       "    <tr>\n",
       "      <th>2</th>\n",
       "      <td>Greg here are my questions regarding the cedar...</td>\n",
       "    </tr>\n",
       "    <tr>\n",
       "      <th>3</th>\n",
       "      <td>Is AMF willing to put up the additional earnes...</td>\n",
       "    </tr>\n",
       "    <tr>\n",
       "      <th>4</th>\n",
       "      <td>please send me their resumes</td>\n",
       "    </tr>\n",
       "    <tr>\n",
       "      <th>...</th>\n",
       "      <td>...</td>\n",
       "    </tr>\n",
       "    <tr>\n",
       "      <th>33528</th>\n",
       "      <td>Sundance 3:\\tAug. 16 to Sept. 13\\nSundance 4:\\...</td>\n",
       "    </tr>\n",
       "    <tr>\n",
       "      <th>33529</th>\n",
       "      <td>The canadian sap # is \\tp00565421\\nthe us sap ...</td>\n",
       "    </tr>\n",
       "    <tr>\n",
       "      <th>33530</th>\n",
       "      <td>yes</td>\n",
       "    </tr>\n",
       "    <tr>\n",
       "      <th>33531</th>\n",
       "      <td>One of us will attend</td>\n",
       "    </tr>\n",
       "    <tr>\n",
       "      <th>33532</th>\n",
       "      <td>yes thanks John</td>\n",
       "    </tr>\n",
       "  </tbody>\n",
       "</table>\n",
       "<p>33533 rows × 1 columns</p>\n",
       "</div>"
      ],
      "text/plain": [
       "                                              email_text\n",
       "0                                   Here is our forecast\n",
       "1      Jeff,\\n\\nIn light of the puny VAR allotments a...\n",
       "2      Greg here are my questions regarding the cedar...\n",
       "3      Is AMF willing to put up the additional earnes...\n",
       "4                           please send me their resumes\n",
       "...                                                  ...\n",
       "33528  Sundance 3:\\tAug. 16 to Sept. 13\\nSundance 4:\\...\n",
       "33529  The canadian sap # is \\tp00565421\\nthe us sap ...\n",
       "33530                                                yes\n",
       "33531                              One of us will attend\n",
       "33532                                    yes thanks John\n",
       "\n",
       "[33533 rows x 1 columns]"
      ]
     },
     "execution_count": 8,
     "metadata": {},
     "output_type": "execute_result"
    }
   ],
   "source": [
    "email_df = pd.DataFrame(cleaned_emails, columns=[\"email_text\"])\n",
    "email_df"
   ]
  },
  {
   "cell_type": "code",
   "execution_count": 9,
   "id": "534d2fea",
   "metadata": {},
   "outputs": [],
   "source": [
    "email_df.to_csv('data/cleaned_emails.csv')"
   ]
  }
 ],
 "metadata": {
  "kernelspec": {
   "display_name": "Python 3 (ipykernel)",
   "language": "python",
   "name": "python3"
  },
  "language_info": {
   "codemirror_mode": {
    "name": "ipython",
    "version": 3
   },
   "file_extension": ".py",
   "mimetype": "text/x-python",
   "name": "python",
   "nbconvert_exporter": "python",
   "pygments_lexer": "ipython3",
   "version": "3.8.11"
  }
 },
 "nbformat": 4,
 "nbformat_minor": 5
}
